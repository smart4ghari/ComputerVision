{
 "cells": [
  {
   "cell_type": "code",
   "execution_count": null,
   "id": "8925c6e3",
   "metadata": {},
   "outputs": [],
   "source": [
    "'''All those codes will be executed in my_puppy.py python script you need to \n",
    "open the terminal and give the correct path to execute that code and thats it\n",
    "''' \n",
    "\n",
    "import cv2\n",
    "\n",
    "img = cv2.imread(\"DATA/00-puppy.jpg\")\n",
    "cv2.imshow(\"Puppy\",img)\n",
    "cv2.waitKey()"
   ]
  },
  {
   "cell_type": "code",
   "execution_count": 1,
   "id": "a14c2e26",
   "metadata": {},
   "outputs": [
    {
     "name": "stdout",
     "output_type": "stream",
     "text": [
      "Hello\n"
     ]
    }
   ],
   "source": [
    "print(\"Hello\")"
   ]
  },
  {
   "cell_type": "code",
   "execution_count": null,
   "id": "9d19f66f",
   "metadata": {},
   "outputs": [],
   "source": []
  }
 ],
 "metadata": {
  "kernelspec": {
   "display_name": "Python 3",
   "language": "python",
   "name": "python3"
  },
  "language_info": {
   "codemirror_mode": {
    "name": "ipython",
    "version": 3
   },
   "file_extension": ".py",
   "mimetype": "text/x-python",
   "name": "python",
   "nbconvert_exporter": "python",
   "pygments_lexer": "ipython3",
   "version": "3.7.11"
  }
 },
 "nbformat": 4,
 "nbformat_minor": 5
}
